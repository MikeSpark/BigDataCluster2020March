{
    "metadata": {
        "kernelspec": {
            "name": "SQL",
            "display_name": "SQL",
            "language": "sql"
        },
        "language_info": {
            "name": "sql",
            "version": ""
        }
    },
    "nbformat_minor": 2,
    "nbformat": 4,
    "cells": [
        {
            "cell_type": "code",
            "source": [
                "USE Sales\r\n",
                "CREATE LOGIN sample_user  WITH PASSWORD ='password123!#' \r\n",
                "CREATE USER sample_user FROM LOGIN sample_user\r\n",
                "\r\n",
                "-- To create external tables in data pools\r\n",
                "GRANT ALTER ANY EXTERNAL DATA SOURCE TO sample_user;\r\n",
                "\r\n",
                "-- To create external table\r\n",
                "GRANT CREATE TABLE TO sample_user;\r\n",
                "GRANT ALTER ANY SCHEMA TO sample_user;\r\n",
                "\r\n",
                "ALTER ROLE [db_datareader] ADD MEMBER sample_user\r\n",
                "ALTER ROLE [db_datawriter] ADD MEMBER sample_user"
            ],
            "metadata": {
                "azdata_cell_guid": "fc18fbe7-14bd-4bfe-8da1-41ed8dcf93ba"
            },
            "outputs": [
                {
                    "output_type": "display_data",
                    "data": {
                        "text/html": "Commands completed successfully."
                    },
                    "metadata": {}
                },
                {
                    "output_type": "display_data",
                    "data": {
                        "text/html": "Total execution time: 00:00:00.130"
                    },
                    "metadata": {}
                }
            ],
            "execution_count": 1
        },
        {
            "cell_type": "code",
            "source": [
                "USE Sales\r\n",
                "GO\r\n",
                "IF NOT EXISTS(SELECT * FROM sys.external_data_sources WHERE name = 'SqlDataPool')\r\n",
                "  CREATE EXTERNAL DATA SOURCE SqlDataPool\r\n",
                "  WITH (LOCATION = 'sqldatapool://controller-svc/default');"
            ],
            "metadata": {
                "azdata_cell_guid": "6446c7bb-8b77-429d-90cf-6f1259b61406"
            },
            "outputs": [
                {
                    "output_type": "display_data",
                    "data": {
                        "text/html": "Commands completed successfully."
                    },
                    "metadata": {}
                },
                {
                    "output_type": "display_data",
                    "data": {
                        "text/html": "Commands completed successfully."
                    },
                    "metadata": {}
                },
                {
                    "output_type": "display_data",
                    "data": {
                        "text/html": "Total execution time: 00:00:00.012"
                    },
                    "metadata": {}
                }
            ],
            "execution_count": 2
        },
        {
            "cell_type": "code",
            "source": [
                "USE Sales\r\n",
                "GO\r\n",
                "IF NOT EXISTS(SELECT * FROM sys.external_tables WHERE name = 'web_clickstreams_spark_results')\r\n",
                "   CREATE EXTERNAL TABLE [web_clickstreams_spark_results]\r\n",
                "   (\"wcs_click_date_sk\" BIGINT , \"wcs_click_time_sk\" BIGINT , \"wcs_sales_sk\" BIGINT , \"wcs_item_sk\" BIGINT , \"wcs_web_page_sk\" BIGINT , \"wcs_user_sk\" BIGINT)\r\n",
                "   WITH\r\n",
                "   (\r\n",
                "      DATA_SOURCE = SqlDataPool,\r\n",
                "      DISTRIBUTION = ROUND_ROBIN\r\n",
                "   );"
            ],
            "metadata": {
                "azdata_cell_guid": "6f31f440-cda1-4d32-a36e-813412c92381"
            },
            "outputs": [
                {
                    "output_type": "display_data",
                    "data": {
                        "text/html": "Commands completed successfully."
                    },
                    "metadata": {}
                },
                {
                    "output_type": "display_data",
                    "data": {
                        "text/html": "Commands completed successfully."
                    },
                    "metadata": {}
                },
                {
                    "output_type": "display_data",
                    "data": {
                        "text/html": "Total execution time: 00:00:01.443"
                    },
                    "metadata": {}
                }
            ],
            "execution_count": 3
        },
        {
            "cell_type": "code",
            "source": [
                "EXECUTE( ' Use Sales; CREATE LOGIN sample_user  WITH PASSWORD = ''password123!#'' ;') AT  DATA_SOURCE SqlDataPool;\r\n",
                "\r\n",
                "EXECUTE('Use Sales; CREATE USER sample_user; ALTER ROLE [db_datareader] ADD MEMBER sample_user;  ALTER ROLE [db_datawriter] ADD MEMBER sample_user;') AT DATA_SOURCE SqlDataPool;"
            ],
            "metadata": {
                "azdata_cell_guid": "e183539e-80bb-4b10-9901-5a1830c4731f"
            },
            "outputs": [
                {
                    "output_type": "display_data",
                    "data": {
                        "text/html": "Commands completed successfully."
                    },
                    "metadata": {}
                },
                {
                    "output_type": "display_data",
                    "data": {
                        "text/html": "Total execution time: 00:00:01.620"
                    },
                    "metadata": {}
                }
            ],
            "execution_count": 4
        }
    ]
}