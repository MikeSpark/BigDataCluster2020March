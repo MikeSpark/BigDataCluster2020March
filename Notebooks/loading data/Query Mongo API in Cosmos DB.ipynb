{
    "metadata": {
        "kernelspec": {
            "name": "SQL",
            "display_name": "SQL",
            "language": "sql"
        },
        "language_info": {
            "name": "sql",
            "version": ""
        }
    },
    "nbformat_minor": 2,
    "nbformat": 4,
    "cells": [
        {
            "cell_type": "code",
            "source": [
                "use sales; \r\n",
                "go"
            ],
            "metadata": {
                "azdata_cell_guid": "d99adf24-b9d8-4741-b4f5-fe6714a5507c"
            },
            "outputs": [
                {
                    "output_type": "display_data",
                    "data": {
                        "text/html": "Commands completed successfully."
                    },
                    "metadata": {}
                },
                {
                    "output_type": "display_data",
                    "data": {
                        "text/html": "Total execution time: 00:00:00.005"
                    },
                    "metadata": {}
                }
            ],
            "execution_count": 3
        },
        {
            "cell_type": "code",
            "source": [
                "/*  specify credentials to external data source\r\n",
                "*  IDENTITY: user name for external source. \r\n",
                "*  SECRET: password for external source.\r\n",
                "*/\r\n",
                "CREATE DATABASE SCOPED CREDENTIAL cosmoscred WITH IDENTITY = 'mcdemocosmosmongo', Secret = 'tsBvAC0t5GJaPqrc3H1F5msSVfNv2uxwYx9nlXGOFNTtX5KIdrROLiDHW2QRRJcXjHUYUamx91PrRNmbr5d5Pw==';"
            ],
            "metadata": {
                "azdata_cell_guid": "b5a70749-e32c-4fec-acdb-adb990e81225"
            },
            "outputs": [
                {
                    "output_type": "error",
                    "evalue": "Msg 15530, Level 16, State 1, Line 5\r\nThe credential with name \"cosmoscred\" already exists.",
                    "ename": "",
                    "traceback": []
                },
                {
                    "output_type": "display_data",
                    "data": {
                        "text/html": "Total execution time: 00:00:00.007"
                    },
                    "metadata": {}
                }
            ],
            "execution_count": 4
        },
        {
            "cell_type": "code",
            "source": [
                "/*  LOCATION: Location string should be of format '<type>://<server>[:<port>]'.\r\n",
                "*  PUSHDOWN: specify whether computation should be pushed down to the source. ON by default.\r\n",
                "*CONNECTION_OPTIONS: Specify driver location\r\n",
                "*  CREDENTIAL: the database scoped credential, created above.\r\n",
                "*/\r\n",
                "CREATE EXTERNAL DATA SOURCE external_data_source_name\r\n",
                "WITH (LOCATION = 'mongodb://mcdemocosmosmongo.mongo.cosmos.azure.com:10255',\r\n",
                "-- PUSHDOWN = ON | OFF,\r\n",
                "CREDENTIAL = cosmoscred);"
            ],
            "metadata": {
                "azdata_cell_guid": "c88c257f-86be-407b-81e9-d4b4929752d2"
            },
            "outputs": [
                {
                    "output_type": "error",
                    "evalue": "Msg 46502, Level 16, State 1, Line 6\r\nType with name 'external_data_source_name' already exists.",
                    "ename": "",
                    "traceback": []
                },
                {
                    "output_type": "display_data",
                    "data": {
                        "text/html": "Total execution time: 00:00:00.058"
                    },
                    "metadata": {}
                }
            ],
            "execution_count": 5
        },
        {
            "cell_type": "code",
            "source": [
                "DROP EXTERNAL TABLE cosmos_table"
            ],
            "metadata": {
                "azdata_cell_guid": "dd2ad113-2877-499a-9e7b-faec081d92c9"
            },
            "outputs": [
                {
                    "output_type": "error",
                    "ename": "",
                    "evalue": "Msg 15151, Level 16, State 1, Line 1\r\nCannot drop the EXTERNAL TABLE 'cosmos_table', because it does not exist or you do not have permission.",
                    "traceback": []
                },
                {
                    "output_type": "display_data",
                    "data": {
                        "text/html": "Total execution time: 00:00:00.005"
                    },
                    "metadata": {}
                }
            ],
            "execution_count": 21
        },
        {
            "cell_type": "code",
            "source": [
                "CREATE EXTERNAL TABLE cosmos_table\r\n",
                "([_id] NVARCHAR(24))\r\n",
                "WITH\r\n",
                "(\r\n",
                "    DATA_SOURCE = external_data_source_name,\r\n",
                "    LOCATION = 'demomongo.demotable'\r\n",
                ");\r\n",
                "GO"
            ],
            "metadata": {
                "azdata_cell_guid": "60a551d9-5c53-498d-9aa0-42ae17a60632"
            },
            "outputs": [
                {
                    "output_type": "display_data",
                    "data": {
                        "text/html": "Commands completed successfully."
                    },
                    "metadata": {}
                },
                {
                    "output_type": "display_data",
                    "data": {
                        "text/html": "Total execution time: 00:00:00.478"
                    },
                    "metadata": {}
                }
            ],
            "execution_count": 7
        },
        {
            "cell_type": "code",
            "source": [
                "SELECT * FROM cosmos_table"
            ],
            "metadata": {
                "azdata_cell_guid": "1c40bda7-5f7b-4f93-9135-5c39e7e78d20"
            },
            "outputs": [
                {
                    "output_type": "display_data",
                    "data": {
                        "text/html": "(0 rows affected)"
                    },
                    "metadata": {}
                },
                {
                    "output_type": "display_data",
                    "data": {
                        "text/html": "Total execution time: 00:00:02.234"
                    },
                    "metadata": {}
                },
                {
                    "output_type": "execute_result",
                    "metadata": {},
                    "execution_count": 8,
                    "data": {
                        "application/vnd.dataresource+json": {
                            "schema": {
                                "fields": [
                                    {
                                        "name": "_id"
                                    }
                                ]
                            },
                            "data": []
                        },
                        "text/html": "<table><tr><th>_id</th></tr></table>"
                    }
                }
            ],
            "execution_count": 8
        }
    ]
}