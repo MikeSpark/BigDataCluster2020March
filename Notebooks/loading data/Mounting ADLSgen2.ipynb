{
    "metadata": {
        "kernelspec": {
            "name": "python3",
            "display_name": "Python 3"
        },
        "language_info": {
            "name": "python",
            "version": "3.6.6",
            "mimetype": "text/x-python",
            "codemirror_mode": {
                "name": "ipython",
                "version": 3
            },
            "pygments_lexer": "ipython3",
            "nbconvert_exporter": "python",
            "file_extension": ".py"
        }
    },
    "nbformat_minor": 2,
    "nbformat": 4,
    "cells": [
        {
            "cell_type": "code",
            "source": [
                "import os\r\n",
                "os.environ[\"MOUNT_CREDENTIALS\"]='fs.azure.abfs.account.name=mcdemoadls.dfs.core.windows.net,fs.azure.account.key.mcdemoadls.dfs.core.windows.net=7H2hA/HrbwAVqPKKLpQZTzK9AKOp4eigxTvgzjI8YqjQXQxq7jw46wN9otFC9t2cTABReKQ27VXmsx9vkmtzBQ=='"
            ],
            "metadata": {
                "azdata_cell_guid": "aae50f15-b14c-4466-8064-24db8882062d"
            },
            "outputs": [],
            "execution_count": 11
        },
        {
            "cell_type": "code",
            "source": [
                "import os\r\n",
                "os.environ[\"AZDATA_PASSWORD\"]=\"\""
            ],
            "metadata": {
                "azdata_cell_guid": "619c3271-9cd5-418f-b2ae-6391315b9534"
            },
            "outputs": [],
            "execution_count": 13
        },
        {
            "cell_type": "code",
            "source": [
                "!azdata login -e https://52.139.171.85:30080 -u dbadmin -n \"mssql-cluster\" -a \"yes\""
            ],
            "metadata": {
                "azdata_cell_guid": "b9a454ac-99b8-4326-bc1f-f96fe873bee6"
            },
            "outputs": [
                {
                    "name": "stdout",
                    "text": "Logged in successfully to `https://52.139.171.85:30080` in namespace `mssql-cluster`. Setting active context to `mssql-cluster`.\n",
                    "output_type": "stream"
                }
            ],
            "execution_count": 14
        },
        {
            "cell_type": "code",
            "source": [
                "!azdata bdc hdfs mount create --remote-uri abfs://adlscontainer@mcdemoadls.dfs.core.windows.net/ --mount-path /mounts/iotdevkit"
            ],
            "metadata": {
                "azdata_cell_guid": "c2304c3a-4f80-4b43-9976-cd092f6712c3"
            },
            "outputs": [
                {
                    "name": "stdout",
                    "text": "Create mount for /mounts/iotdevkit submitted successfully. Check mount status for progress\n",
                    "output_type": "stream"
                }
            ],
            "execution_count": 16
        },
        {
            "cell_type": "code",
            "source": [
                "!azdata bdc hdfs mount status"
            ],
            "metadata": {
                "azdata_cell_guid": "ea88b4e2-ed38-4538-9fa4-2e67ebab63c2"
            },
            "outputs": [
{
    "name": "stdout",
    "text": "[\n  {\n    \"error\": \"Operation timed out after 2 minutes.\",\n    \"mount\": \"/mounts/iotdevkit\",\n    \"remote\": \"abfs://adlscontainer@mcdemoadls.dfs.core.windows.net/\",\n    \"state\": \"Error\"\n  }\n]\n",
    "output_type": "stream"
}
],
            "execution_count": 17
        }
    ]
}