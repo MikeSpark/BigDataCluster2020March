{
    "metadata": {
        "kernelspec": {
            "name": "SQL",
            "display_name": "SQL",
            "language": "sql"
        },
        "language_info": {
            "name": "sql",
            "version": ""
        }
    },
    "nbformat_minor": 2,
    "nbformat": 4,
    "cells": [
        {
            "cell_type": "code",
            "source": [
                "USE Sales\r\n",
                "GO"
            ],
            "metadata": {
                "azdata_cell_guid": "57651dfe-cd67-4afe-acaf-55f666d21c0a"
            },
            "outputs": [
                {
                    "output_type": "display_data",
                    "data": {
                        "text/html": "Commands completed successfully."
                    },
                    "metadata": {}
                },
                {
                    "output_type": "display_data",
                    "data": {
                        "text/html": "Total execution time: 00:00:00.004"
                    },
                    "metadata": {}
                }
            ],
            "execution_count": 1
        },
        {
            "cell_type": "code",
            "source": [
                "IF NOT EXISTS(SELECT * FROM sys.external_data_sources WHERE name = 'SqlDataPool')\r\n",
                "  CREATE EXTERNAL DATA SOURCE SqlDataPool\r\n",
                "  WITH (LOCATION = 'sqldatapool://controller-svc/default');"
            ],
            "metadata": {
                "azdata_cell_guid": "54e6b74e-27a5-4545-b9d7-03d882d0b5b0"
            },
            "outputs": [
                {
                    "output_type": "display_data",
                    "data": {
                        "text/html": "Commands completed successfully."
                    },
                    "metadata": {}
                },
                {
                    "output_type": "display_data",
                    "data": {
                        "text/html": "Total execution time: 00:00:00.009"
                    },
                    "metadata": {}
                }
            ],
            "execution_count": 2
        },
        {
            "cell_type": "code",
            "source": [
                "IF NOT EXISTS(SELECT * FROM sys.external_tables WHERE name = 'web_clickstream_clicks_data_pool')\r\n",
                "   CREATE EXTERNAL TABLE [web_clickstream_clicks_data_pool]\r\n",
                "   (\"wcs_user_sk\" BIGINT , \"i_category_id\" BIGINT , \"clicks\" BIGINT)\r\n",
                "   WITH\r\n",
                "   (\r\n",
                "      DATA_SOURCE = SqlDataPool,\r\n",
                "      DISTRIBUTION = ROUND_ROBIN\r\n",
                "   );"
            ],
            "metadata": {
                "azdata_cell_guid": "a86440c8-2f9e-4890-bc93-8340303dde90"
            },
            "outputs": [
                {
                    "output_type": "display_data",
                    "data": {
                        "text/html": "Commands completed successfully."
                    },
                    "metadata": {}
                },
                {
                    "output_type": "display_data",
                    "data": {
                        "text/html": "Total execution time: 00:00:05.559"
                    },
                    "metadata": {}
                }
            ],
            "execution_count": 3
        },
        {
            "cell_type": "code",
            "source": [
                "INSERT INTO web_clickstream_clicks_data_pool\r\n",
                "SELECT wcs_user_sk, i_category_id, COUNT_BIG(*) as clicks\r\n",
                "  FROM sales.dbo.web_clickstreams_hdfs\r\n",
                "INNER JOIN sales.dbo.item it ON (wcs_item_sk = i_item_sk\r\n",
                "                        AND wcs_user_sk IS NOT NULL)\r\n",
                "GROUP BY wcs_user_sk, i_category_id\r\n",
                "HAVING COUNT_BIG(*) > 100;"
            ],
            "metadata": {
                "azdata_cell_guid": "1295a833-0f3f-4285-9d34-cbc32ce8cfa8"
            },
            "outputs": [
                {
                    "output_type": "display_data",
                    "data": {
                        "text/html": "(1932 rows affected)"
                    },
                    "metadata": {}
                },
                {
                    "output_type": "display_data",
                    "data": {
                        "text/html": "Total execution time: 00:00:19.413"
                    },
                    "metadata": {}
                }
            ],
            "execution_count": 4
        },
        {
            "cell_type": "code",
            "source": [
                "SELECT count(*) FROM [dbo].[web_clickstream_clicks_data_pool]\n",
                "SELECT TOP 10 * FROM [dbo].[web_clickstream_clicks_data_pool]"
            ],
            "metadata": {
                "azdata_cell_guid": "b3937f2c-f2e7-4f58-b777-87a6196dfaa6"
            },
            "outputs": [
{
    "output_type": "display_data",
    "data": {
        "text/html": "(1 row affected)"
    },
    "metadata": {}
}, {
    "output_type": "display_data",
    "data": {
        "text/html": "(10 rows affected)"
    },
    "metadata": {}
}, {
    "output_type": "display_data",
    "data": {
        "text/html": "Total execution time: 00:00:03.295"
    },
    "metadata": {}
}, {
    "output_type": "execute_result",
    "metadata": {},
    "execution_count": 5,
    "data": {
        "application/vnd.dataresource+json": {
            "schema": {
                "fields": [
                    {
                        "name": "(No column name)"
                    }
                ]
            },
            "data": [
                {
                    "0": "1932"
                }
            ]
        },
        "text/html": "<table><tr><th>(No column name)</th></tr><tr><td>1932</td></tr></table>"
    }
}, {
    "output_type": "execute_result",
    "metadata": {},
    "execution_count": 5,
    "data": {
        "application/vnd.dataresource+json": {
            "schema": {
                "fields": [
                    {
                        "name": "wcs_user_sk"
                    },
                    {
                        "name": "i_category_id"
                    },
                    {
                        "name": "clicks"
                    }
                ]
            },
            "data": [
                {
                    "0": "76215",
                    "1": "2",
                    "2": "179"
                },
                {
                    "0": "87226",
                    "1": "3",
                    "2": "134"
                },
                {
                    "0": "25933",
                    "1": "2",
                    "2": "118"
                },
                {
                    "0": "21700",
                    "1": "2",
                    "2": "316"
                },
                {
                    "0": "23705",
                    "1": "2",
                    "2": "128"
                },
                {
                    "0": "82453",
                    "1": "3",
                    "2": "144"
                },
                {
                    "0": "79361",
                    "1": "2",
                    "2": "162"
                },
                {
                    "0": "80448",
                    "1": "3",
                    "2": "145"
                },
                {
                    "0": "15732",
                    "1": "2",
                    "2": "230"
                },
                {
                    "0": "65204",
                    "1": "2",
                    "2": "208"
                }
            ]
        },
        "text/html": "<table><tr><th>wcs_user_sk</th><th>i_category_id</th><th>clicks</th></tr><tr><td>76215</td><td>2</td><td>179</td></tr><tr><td>87226</td><td>3</td><td>134</td></tr><tr><td>25933</td><td>2</td><td>118</td></tr><tr><td>21700</td><td>2</td><td>316</td></tr><tr><td>23705</td><td>2</td><td>128</td></tr><tr><td>82453</td><td>3</td><td>144</td></tr><tr><td>79361</td><td>2</td><td>162</td></tr><tr><td>80448</td><td>3</td><td>145</td></tr><tr><td>15732</td><td>2</td><td>230</td></tr><tr><td>65204</td><td>2</td><td>208</td></tr></table>"
    }
}
],
            "execution_count": 5
        }
    ]
}